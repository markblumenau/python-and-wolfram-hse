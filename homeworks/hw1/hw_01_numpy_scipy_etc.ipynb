{
 "cells": [
  {
   "cell_type": "markdown",
   "metadata": {},
   "source": [
    "# Домашнее задание 1\n",
    "\n",
    "Это первое домашнее задание на курсе \"От автоматизации эксперимента к решению уравнений (Python и Wolfram Mathematica)\". \n",
    "\n",
    "Некоторые задачи заимствованы с майнора ИАД: https://github.com/hse-ds/iad-intro-ds/\n",
    "\n",
    "Максимальная оценка за него составляет 5 баллов. Всего в этом Дз две секции: Numpy и Scipy+visualization.\n",
    "\n",
    "\"Недостающие\" в этом Дз баллы будут в Дз 2, где будет две части: работа с прибором и работа с микроконтроллером.\n",
    "\n",
    "В конце есть бонус на написание своей функции подсчета детерминанта матрицы и сравнение работы с NumPy/SciPy. Бонус дает до 5 баллов в копилку."
   ]
  },
  {
   "cell_type": "code",
   "execution_count": null,
   "metadata": {},
   "outputs": [],
   "source": [
    "!pip install numpy scipy matplotlib pandas"
   ]
  },
  {
   "cell_type": "code",
   "execution_count": null,
   "metadata": {},
   "outputs": [],
   "source": [
    "import numpy as np\n",
    "import matplotlib.pyplot as plt\n",
    "import scipy\n",
    "import pandas as pd"
   ]
  },
  {
   "cell_type": "markdown",
   "metadata": {},
   "source": [
    "## Numpy"
   ]
  },
  {
   "cell_type": "markdown",
   "metadata": {},
   "source": [
    "### Задание 1 (0.5 балла)\n",
    "\n",
    "Напишите программу код для вычисления гиперболического синуса, гиперболического косинуса и гиперболического тангенса для всех элементов заданного массива.\n",
    "\n",
    "Сделайте это двумя методами: расписав через экспоненту (см. https://ru.wikipedia.org/wiki/Гиперболические_функции) и одной строкой."
   ]
  },
  {
   "cell_type": "code",
   "execution_count": null,
   "metadata": {},
   "outputs": [],
   "source": [
    "def sh(x):\n",
    "    return # YOUR CODE HERE\n",
    "\n",
    "def ch(x):\n",
    "    return # YOUR CODE HERE\n",
    "\n",
    "def th(x):\n",
    "    return # YOUR CODE HERE"
   ]
  },
  {
   "cell_type": "code",
   "execution_count": null,
   "metadata": {},
   "outputs": [],
   "source": [
    "# Check somehow here"
   ]
  },
  {
   "cell_type": "markdown",
   "metadata": {},
   "source": [
    "### Задание 2 (0.5 балла)\n",
    "\n",
    "Напишите код для создания массива 3x3 со случайными значениями и вычисления попарного евклидова расстояния между каждой парой строк"
   ]
  },
  {
   "cell_type": "code",
   "execution_count": null,
   "metadata": {},
   "outputs": [],
   "source": [
    "# Use from scipy.spatial import distance\n",
    "# And np.random.random"
   ]
  },
  {
   "cell_type": "markdown",
   "metadata": {},
   "source": [
    "### Задание 3 (0.5 балла)\n",
    "Попрактикуемся с матричными операциями:\n",
    "Напишите функцию, возвращающую округленную взвешенную сумму оценок по данным оценкам и весам. Можете посчитать свою оценку за какой-нибудь курс."
   ]
  },
  {
   "cell_type": "code",
   "execution_count": null,
   "metadata": {},
   "outputs": [],
   "source": [
    "def result_mark(weights: np.array, marks: np.array) -> int:\n",
    "    return # YOUR CODE HERE"
   ]
  },
  {
   "cell_type": "code",
   "execution_count": null,
   "metadata": {},
   "outputs": [],
   "source": [
    "# Check\n",
    "weights = np.array([0.3, 0.4, 0.2, 0.1])\n",
    "marks = np.array([7, 10, 8, 6])\n",
    "\n",
    "assert result_mark(weights, marks) == 8"
   ]
  },
  {
   "cell_type": "code",
   "execution_count": null,
   "metadata": {},
   "outputs": [],
   "source": [
    "weights = np.array([0.3, 0.4, 0.2, 0.1])\n",
    "marks = np.array([7, 0, 8, 6])\n",
    "\n",
    "assert result_mark(weights, marks) == 4"
   ]
  },
  {
   "cell_type": "markdown",
   "metadata": {},
   "source": [
    "### Задание 4 (0.5 балла)\n",
    "Для улучшения качества работы некоторых алгоритмов может быть полезно использовать нормализацию данных, чтобы привести признаки в выборке к одному масштабу — а именно, из каждого столбца вычесть среднее его значений и поделить на их стандартное отклонение. Напишите функцию, нормализующую входящую матрицу (по столбцам). Например, если на вход подается матрица \n",
    "$$\n",
    "\\begin{pmatrix}\n",
    "1 & 4 & 4200\\\\\n",
    "0 & 10 & 5000\\\\\n",
    "1 & 2 & 1000\\\\\n",
    "\\end{pmatrix},\n",
    "$$\n",
    "то результатом с точностью до сотых будет матрица\n",
    "$$\n",
    "\\begin{pmatrix}\n",
    "0.71 & -0.39 & 0.46\\\\\n",
    "-1.41 & 1.37 & 0.93\\\\\n",
    "0.71 & -0.98 & -1.39\\\\\n",
    "\\end{pmatrix}\n",
    "$$\n",
    "\n",
    "Учтите, что в вашем матрице не должно получаться никаких nan. Подумайте, в каком случае они могут возникнуть и как обойти эту проблему.\n",
    "\n",
    "_Подсказка. nan могут возникать при делении на ноль._"
   ]
  },
  {
   "cell_type": "code",
   "execution_count": null,
   "metadata": {},
   "outputs": [],
   "source": [
    "def normalize(matrix: np.array) -> np.array:\n",
    "   return # YOUR CODE HERE"
   ]
  },
  {
   "cell_type": "code",
   "execution_count": null,
   "metadata": {},
   "outputs": [],
   "source": [
    "# Check\n",
    "matrix = np.array([[1, 4, 4200], [0, 10, 5000], [1, 2, 1000]])\n",
    "\n",
    "assert np.allclose(\n",
    "    normalize(matrix),\n",
    "    np.array([[ 0.7071, -0.39223,  0.46291],\n",
    "              [-1.4142,  1.37281,  0.92582],\n",
    "              [ 0.7071, -0.98058, -1.38873]])\n",
    ")"
   ]
  },
  {
   "cell_type": "code",
   "execution_count": null,
   "metadata": {},
   "outputs": [],
   "source": [
    "matrix = np.array([[-7, 2, 42], [2, 10, 50], [5, 4, 10]])\n",
    "\n",
    "assert np.allclose(\n",
    "    normalize(matrix),\n",
    "    np.array([[-1.37281, -0.98058,  0.46291],\n",
    "              [ 0.39223,  1.37281,  0.92582],\n",
    "              [ 0.98058, -0.39223, -1.38873]])\n",
    ")"
   ]
  },
  {
   "cell_type": "markdown",
   "metadata": {},
   "source": [
    "## Scipy + visualization\n",
    "\n",
    "Данное задание больше напоминает белый лист. К вам пришел друг, занимающийся ядерными исследованиями и принес данные полураспада какого-то вещества. Просит помочь узнать две вещи: сколько молей вещества было изначально, а также что это за изотоп он насинтезировал.\n",
    "\n",
    "Данные содержат две колонки: `t` и `y`. `t` - время в секундах, `y` - количество молей вещества, но измеряется оно у друга как-то странно и шумно, а поэтому точки в 0 нет."
   ]
  },
  {
   "cell_type": "markdown",
   "metadata": {},
   "source": [
    "### Задание 1 (1.5 балла)\n",
    "Откройте данные в `data.csv`, и при помощи `scipy.optmize.curve_fit` выполните фит закона полураспада. Найдите изначальное количество молей, определите постоянную распада, и при помощи Википедии или других справочников определите, какие атомы синтезировал ваш друг.\n",
    "\n",
    "На всякий случай напомним закон радиоактивного распада:\n",
    "$$\n",
    "N(t) = N_0 e^{-\\lambda t},\n",
    "$$\n",
    "где $N_0$ - первоначальное число атомов. У вашего друга число моль, но, как мы помним, число моль получается из числа атомов делением на число Авогадро."
   ]
  },
  {
   "cell_type": "code",
   "execution_count": null,
   "metadata": {},
   "outputs": [],
   "source": [
    "def decay(# YOUR CODE HERE):\n",
    "    return # YOUR CODE HERE\n",
    "\n",
    "data = # YOUR CODE HERE\n",
    "\n",
    "fit = # YOUR CODE HERE\n",
    "\n",
    "# Show your results"
   ]
  },
  {
   "cell_type": "markdown",
   "metadata": {},
   "source": [
    "### Задание 2 (1.5 балла)\n",
    "\n",
    "Постройте красивый график (с подписанными осями, крупными шрифтами, легендой, сеткой по вкусу) для вашего друга и сохраните его в векторном формате (например, `.pdf`). Вы можете пользоваться любой библиотекой для визуализации на ваш вкус.\n",
    "\n",
    "Потом вспомните, что не все журналы принимают векторные изображения и сохраните изображение и в `.png` формате. \n",
    "\n",
    "P.S. Обратите внимание, что ваш график должен, помимо прочего, быть отображен в одной из следующих клеточек, чтобы проверяющий тоже мог на него посмотреть."
   ]
  },
  {
   "cell_type": "code",
   "execution_count": null,
   "metadata": {},
   "outputs": [],
   "source": [
    "# Visualize your results"
   ]
  },
  {
   "cell_type": "markdown",
   "metadata": {},
   "source": [
    "# Бонус (до 5 баллов)"
   ]
  },
  {
   "cell_type": "markdown",
   "metadata": {},
   "source": [
    "Реализуйте подсчет определителя матрицы своими руками на чистом Python. Сравните свою реализацию с циклами против библиотечного варианта из scipy для матриц разного размера (1, 10, 50, 100, 500). Визуализируйте результаты красиво.\n",
    "\n",
    "Библиотечная функция: `scipy.linalg.det`\n",
    "\n",
    "Подсказка: считать рекурсивно не выйдет, на больших матрицах ваш код будет работать слишком долго."
   ]
  },
  {
   "cell_type": "code",
   "execution_count": null,
   "metadata": {},
   "outputs": [],
   "source": [
    "def det(matrix: np.array) -> float:\n",
    "    return # YOUR CODE HERE"
   ]
  }
 ],
 "metadata": {
  "kernelspec": {
   "display_name": "ff25",
   "language": "python",
   "name": "python3"
  },
  "language_info": {
   "name": "python",
   "version": "3.12.8"
  }
 },
 "nbformat": 4,
 "nbformat_minor": 2
}
